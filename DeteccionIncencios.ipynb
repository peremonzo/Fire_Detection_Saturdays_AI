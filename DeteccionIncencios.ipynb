{
  "cells": [
    {
      "cell_type": "markdown",
      "metadata": {
        "id": "view-in-github",
        "colab_type": "text"
      },
      "source": [
        "<a href=\"https://colab.research.google.com/github/peremonzo/Fire_Detection_Saturdays_AI/blob/main/DeteccionIncencios.ipynb\" target=\"_parent\"><img src=\"https://colab.research.google.com/assets/colab-badge.svg\" alt=\"Open In Colab\"/></a>"
      ]
    },
    {
      "cell_type": "code",
      "execution_count": 1,
      "metadata": {
        "colab": {
          "base_uri": "https://localhost:8080/"
        },
        "id": "LOmYq2CCcMXc",
        "outputId": "f8f41f89-441a-42b3-c129-164ec6759f27"
      },
      "outputs": [
        {
          "output_type": "stream",
          "name": "stdout",
          "text": [
            "Looking in indexes: https://pypi.org/simple, https://us-python.pkg.dev/colab-wheels/public/simple/\n",
            "Requirement already satisfied: rasterio in /usr/local/lib/python3.8/dist-packages (1.3.6)\n",
            "Requirement already satisfied: click-plugins in /usr/local/lib/python3.8/dist-packages (from rasterio) (1.1.1)\n",
            "Requirement already satisfied: setuptools in /usr/local/lib/python3.8/dist-packages (from rasterio) (57.4.0)\n",
            "Requirement already satisfied: attrs in /usr/local/lib/python3.8/dist-packages (from rasterio) (22.2.0)\n",
            "Requirement already satisfied: certifi in /usr/local/lib/python3.8/dist-packages (from rasterio) (2022.12.7)\n",
            "Requirement already satisfied: click>=4.0 in /usr/local/lib/python3.8/dist-packages (from rasterio) (7.1.2)\n",
            "Requirement already satisfied: affine in /usr/local/lib/python3.8/dist-packages (from rasterio) (2.4.0)\n",
            "Requirement already satisfied: snuggs>=1.4.1 in /usr/local/lib/python3.8/dist-packages (from rasterio) (1.4.7)\n",
            "Requirement already satisfied: cligj>=0.5 in /usr/local/lib/python3.8/dist-packages (from rasterio) (0.7.2)\n",
            "Requirement already satisfied: numpy>=1.18 in /usr/local/lib/python3.8/dist-packages (from rasterio) (1.21.6)\n",
            "Requirement already satisfied: pyparsing>=2.1.6 in /usr/local/lib/python3.8/dist-packages (from snuggs>=1.4.1->rasterio) (3.0.9)\n"
          ]
        }
      ],
      "source": [
        "!pip install rasterio"
      ]
    },
    {
      "cell_type": "code",
      "execution_count": 2,
      "metadata": {
        "colab": {
          "base_uri": "https://localhost:8080/"
        },
        "id": "jlCV0myzD7IF",
        "outputId": "42408055-2902-425a-8925-58e31a77ab3c"
      },
      "outputs": [
        {
          "output_type": "stream",
          "name": "stdout",
          "text": [
            "Drive already mounted at /content/drive; to attempt to forcibly remount, call drive.mount(\"/content/drive\", force_remount=True).\n"
          ]
        }
      ],
      "source": [
        "from google.colab import drive\n",
        "drive.mount('/content/drive')"
      ]
    },
    {
      "cell_type": "code",
      "execution_count": 3,
      "metadata": {
        "id": "4eEQo2I-D3-W"
      },
      "outputs": [],
      "source": [
        "import pandas as pd\n",
        "import rasterio\n",
        "import matplotlib.pyplot as plt\n",
        "import numpy as np\n",
        "from sklearn.utils import resample\n",
        "from sklearn.model_selection import train_test_split\n",
        "from sklearn.ensemble import RandomForestClassifier\n",
        "from sklearn.model_selection import GridSearchCV, RandomizedSearchCV\n",
        "import xgboost as xgb\n",
        "from sklearn.metrics import classification_report, r2_score, accuracy_score\n",
        "from sklearn.model_selection import RandomizedSearchCV\n",
        "import seaborn as sns\n",
        "from sklearn.metrics import confusion_matrix\n",
        "from sklearn.impute import SimpleImputer"
      ]
    },
    {
      "cell_type": "markdown",
      "source": [
        "# Estudio de las capas, extracción y formateo de datos"
      ],
      "metadata": {
        "id": "QlaP2zy6M9__"
      }
    },
    {
      "cell_type": "code",
      "execution_count": 4,
      "metadata": {
        "id": "dv4eW2tkECUT"
      },
      "outputs": [],
      "source": [
        "drive_path_ainhoa = \"/content/drive/MyDrive/Còpia de stack_palancia.tif\"\n",
        "drive_path_pere = \"/content/drive/MyDrive/ProyectoSaturdaysDatos/stack_palancia.tif\"\n",
        "drive_path_pere_pend_ori = \"/content/drive/MyDrive/ProyectoSaturdaysDatos/pend_ori_stack.tif\"\n",
        "dataset = rasterio.open(drive_path_pere)\n",
        "dataset_pend_ori = rasterio.open(drive_path_pere_pend_ori)"
      ]
    },
    {
      "cell_type": "code",
      "execution_count": 5,
      "metadata": {
        "colab": {
          "base_uri": "https://localhost:8080/"
        },
        "id": "4Q9ZVjPgECw7",
        "outputId": "4350c0ce-eca9-4e84-b7fc-ba88d7a063db"
      },
      "outputs": [
        {
          "output_type": "stream",
          "name": "stdout",
          "text": [
            "height (alto de las imágenes A):  9323\n",
            "width (anchura de las imágenes A):  9813\n",
            "height (alto de las imágenes B):  9319\n",
            "width (anchura de las imágenes B):  9808\n"
          ]
        }
      ],
      "source": [
        "print('height (alto de las imágenes A): ', dataset.height)\n",
        "print('width (anchura de las imágenes A): ', dataset.width)\n",
        "\n",
        "print('height (alto de las imágenes B): ', dataset_pend_ori.height)\n",
        "print('width (anchura de las imágenes B): ', dataset_pend_ori.width)"
      ]
    },
    {
      "cell_type": "markdown",
      "source": [
        "## Extracción de los datos de cada capa"
      ],
      "metadata": {
        "id": "-T53GXim_Kz5"
      }
    },
    {
      "cell_type": "code",
      "execution_count": 6,
      "metadata": {
        "id": "H4OLCETVd4oK"
      },
      "outputs": [],
      "source": [
        "band1 = dataset.read(1)[4:, 5:]\n",
        "band2 = dataset.read(2)[4:, 5:]\n",
        "band3 = dataset.read(3)[4:, 5:]\n",
        "band4 = dataset.read(4)[4:, 5:]\n",
        "band5 = dataset.read(5)[4:, 5:] \n",
        "band6 = dataset_pend_ori.read(1)\n",
        "band7 = dataset_pend_ori.read(2)"
      ]
    },
    {
      "cell_type": "code",
      "source": [
        "print(band1.shape == band2.shape == band3.shape == band4.shape == band5.shape == band6.shape == band7.shape)"
      ],
      "metadata": {
        "colab": {
          "base_uri": "https://localhost:8080/"
        },
        "id": "QF83yblBAXgz",
        "outputId": "ecbdf7b2-3495-43e3-a776-5f0b6e698d48"
      },
      "execution_count": 7,
      "outputs": [
        {
          "output_type": "stream",
          "name": "stdout",
          "text": [
            "True\n"
          ]
        }
      ]
    },
    {
      "cell_type": "markdown",
      "source": [
        "## Creación del data frame (columnas = capas y filas = valor del píxel)"
      ],
      "metadata": {
        "id": "L-p4Fj7v_sZs"
      }
    },
    {
      "cell_type": "code",
      "source": [
        "# creando la matriz de datos (columnas=capas y filas=valor_pixel)\n",
        "m = np.vstack([\n",
        "      band1.ravel().transpose(),\n",
        "      band2.ravel().transpose(),\n",
        "      band3.ravel().transpose(),\n",
        "      band4.ravel().transpose(),\n",
        "      band5.ravel().transpose(),\n",
        "      band6.ravel().transpose(),\n",
        "      band7.ravel().transpose()\n",
        "    ]).transpose()\n",
        "print(m.shape)"
      ],
      "metadata": {
        "colab": {
          "base_uri": "https://localhost:8080/"
        },
        "id": "3TAFz3mqwpr3",
        "outputId": "e4f439d1-8360-423f-e1f6-a11132efb689"
      },
      "execution_count": 8,
      "outputs": [
        {
          "output_type": "stream",
          "name": "stdout",
          "text": [
            "(91400752, 7)\n"
          ]
        }
      ]
    },
    {
      "cell_type": "code",
      "source": [
        "#creando data frame\n",
        "df = pd.DataFrame(m, columns=['municipios','carreteras','agraria','temperatura','fuego', 'pendiente', 'orientacion'])"
      ],
      "metadata": {
        "id": "JwqyKWdMKxBZ"
      },
      "execution_count": 9,
      "outputs": []
    },
    {
      "cell_type": "code",
      "source": [
        "print(df.municipios.value_counts())"
      ],
      "metadata": {
        "colab": {
          "base_uri": "https://localhost:8080/"
        },
        "id": "8AG0fuSme_0d",
        "outputId": "248fe8d8-88ab-4b2f-dbd2-1b7e8cca46f2"
      },
      "execution_count": 10,
      "outputs": [
        {
          "output_type": "stream",
          "name": "stdout",
          "text": [
            "-1000000000    52598054\n",
            "-999999999     38408259\n",
            " 1               394439\n",
            "Name: municipios, dtype: int64\n"
          ]
        }
      ]
    },
    {
      "cell_type": "code",
      "source": [
        "print(df.carreteras.value_counts())"
      ],
      "metadata": {
        "colab": {
          "base_uri": "https://localhost:8080/"
        },
        "id": "wt6Sk1m0e_8A",
        "outputId": "757e6df2-4fa9-44a7-8302-6d491a7f2e8f"
      },
      "execution_count": 11,
      "outputs": [
        {
          "output_type": "stream",
          "name": "stdout",
          "text": [
            "-1000000000    52256010\n",
            "-999999999     38408259\n",
            " 1               736483\n",
            "Name: carreteras, dtype: int64\n"
          ]
        }
      ]
    },
    {
      "cell_type": "code",
      "source": [
        "print(df.agraria.value_counts())"
      ],
      "metadata": {
        "colab": {
          "base_uri": "https://localhost:8080/"
        },
        "id": "Fg1ly9UyfABQ",
        "outputId": "7d67727d-ed55-40f2-8b2d-7b9f40402996"
      },
      "execution_count": 12,
      "outputs": [
        {
          "output_type": "stream",
          "name": "stdout",
          "text": [
            "-999999999     38408259\n",
            " 8             13323871\n",
            " 12             6283185\n",
            " 10             4577028\n",
            " 9              4031137\n",
            " 7              3908138\n",
            " 1              3689812\n",
            " 13             2756089\n",
            " 101            1991765\n",
            " 14             1458298\n",
            " 6              1367823\n",
            " 108            1325790\n",
            " 201             953437\n",
            " 102             856912\n",
            " 17              741256\n",
            " 117             707645\n",
            " 109             702160\n",
            " 11              477112\n",
            " 107             458376\n",
            " 2               436126\n",
            " 3               417452\n",
            " 5               307274\n",
            " 106             291368\n",
            " 112             226005\n",
            " 18              213607\n",
            " 202             187984\n",
            " 21              150130\n",
            " 16              146283\n",
            " 217             135630\n",
            " 208             126236\n",
            " 110             116938\n",
            " 103             112309\n",
            " 113              96117\n",
            " 20               67167\n",
            " 206              65407\n",
            " 203              55489\n",
            " 207              33311\n",
            " 114              29395\n",
            " 4                22307\n",
            " 209              20777\n",
            " 210              17920\n",
            " 212              17458\n",
            "-1000000000       17007\n",
            " 118              16724\n",
            " 111              12484\n",
            " 104              10968\n",
            " 218              10052\n",
            " 213               9692\n",
            " 204               8852\n",
            " 211               1574\n",
            " 214               1168\n",
            " 105                612\n",
            " 115                420\n",
            " 116                260\n",
            " 215                132\n",
            " 205                 12\n",
            " 219                 12\n",
            "Name: agraria, dtype: int64\n"
          ]
        }
      ]
    },
    {
      "cell_type": "code",
      "source": [
        "print(df.temperatura.value_counts())"
      ],
      "metadata": {
        "colab": {
          "base_uri": "https://localhost:8080/"
        },
        "id": "hN_mtRR2fAHJ",
        "outputId": "91483276-6726-429d-81fe-49f97e7b33c4"
      },
      "execution_count": 13,
      "outputs": [
        {
          "output_type": "stream",
          "name": "stdout",
          "text": [
            "-999999999     38408259\n",
            "-1000000000       30885\n",
            " 47263            20606\n",
            " 47591            20447\n",
            " 47120            20433\n",
            "                 ...   \n",
            " 50712               36\n",
            " 44160               36\n",
            " 50688               36\n",
            " 50776               36\n",
            " 43726               36\n",
            "Name: temperatura, Length: 6923, dtype: int64\n"
          ]
        }
      ]
    },
    {
      "cell_type": "code",
      "source": [
        "print(df.fuego.value_counts())"
      ],
      "metadata": {
        "colab": {
          "base_uri": "https://localhost:8080/"
        },
        "id": "ReDuvy3yfAOs",
        "outputId": "fcd5fe3e-edad-48b5-93de-742be92bc96e"
      },
      "execution_count": 14,
      "outputs": [
        {
          "output_type": "stream",
          "name": "stdout",
          "text": [
            "-999999999     38408259\n",
            "-1000000000    36228088\n",
            " 50             6938342\n",
            " 80             4052154\n",
            " 0              3909060\n",
            " 30             1068344\n",
            " 60              342528\n",
            " 20              324210\n",
            " 40               71223\n",
            " 70               42020\n",
            " 10               12504\n",
            " 90                3256\n",
            " 100                756\n",
            " 95                   8\n",
            "Name: fuego, dtype: int64\n"
          ]
        }
      ]
    },
    {
      "cell_type": "code",
      "source": [
        "print(df.pendiente.value_counts())"
      ],
      "metadata": {
        "colab": {
          "base_uri": "https://localhost:8080/"
        },
        "id": "gQBZUYXEA9Va",
        "outputId": "4fba3761-6020-42ea-e6b1-ed37de8e4981"
      },
      "execution_count": 15,
      "outputs": [
        {
          "output_type": "stream",
          "name": "stdout",
          "text": [
            "-9999    38408102\n",
            " 4        1036855\n",
            " 5        1021123\n",
            " 3        1000771\n",
            " 6         997494\n",
            "           ...   \n",
            " 786            1\n",
            " 842            1\n",
            " 680            1\n",
            " 734            1\n",
            " 615            1\n",
            "Name: pendiente, Length: 816, dtype: int64\n"
          ]
        }
      ]
    },
    {
      "cell_type": "code",
      "source": [
        "print(df.orientacion.value_counts())"
      ],
      "metadata": {
        "colab": {
          "base_uri": "https://localhost:8080/"
        },
        "id": "UflfLKyOA9dR",
        "outputId": "18b60c08-af21-4ced-c072-7cba5f60b310"
      },
      "execution_count": 16,
      "outputs": [
        {
          "output_type": "stream",
          "name": "stdout",
          "text": [
            "0      38563718\n",
            "135      172302\n",
            "134      171211\n",
            "145      171054\n",
            "148      170918\n",
            "         ...   \n",
            "285      114891\n",
            "286      114782\n",
            "287      114695\n",
            "284      114431\n",
            "360       71900\n",
            "Name: orientacion, Length: 361, dtype: int64\n"
          ]
        }
      ]
    },
    {
      "cell_type": "code",
      "source": [
        "# Nos aseguramos que todos píxeles de sin datos son -999999999\n",
        "print(len(df[(df.municipios == -999999999) & (\n",
        "            (df.carreteras != -999999999) | \n",
        "            (df.agraria != -999999999) | \n",
        "            (df.temperatura != -999999999) | \n",
        "            (df.fuego != -999999999) | \n",
        "            (df.pendiente != -9999) |\n",
        "            (df.orientacion != 0) )]))"
      ],
      "metadata": {
        "colab": {
          "base_uri": "https://localhost:8080/"
        },
        "id": "TZT_wVf5oJzi",
        "outputId": "7500ecd6-9255-47c6-9729-f5d56670ccfe"
      },
      "execution_count": 17,
      "outputs": [
        {
          "output_type": "stream",
          "name": "stdout",
          "text": [
            "25122\n"
          ]
        }
      ]
    },
    {
      "cell_type": "markdown",
      "source": [
        "## Formateo de los píxeles de la capa de incendios"
      ],
      "metadata": {
        "id": "BpE7fCtb_24W"
      }
    },
    {
      "cell_type": "markdown",
      "source": [
        "### Eliminamos los campos \"sin datos\""
      ],
      "metadata": {
        "id": "0MZGDBMjAKSD"
      }
    },
    {
      "cell_type": "code",
      "source": [
        "#eliminamos los -999999999 que son los valores sin datos\n",
        "df.drop(df[(df.fuego == -999999999) | (df.pendiente == -9999) | (df.orientacion == 0)].index,inplace=True)\n",
        "\n",
        "print(df.shape)"
      ],
      "metadata": {
        "id": "m50YEXd5yECS",
        "colab": {
          "base_uri": "https://localhost:8080/"
        },
        "outputId": "cfa99204-3906-4102-9161-eea112a8cc40"
      },
      "execution_count": 18,
      "outputs": [
        {
          "output_type": "stream",
          "name": "stdout",
          "text": [
            "(52811944, 7)\n"
          ]
        }
      ]
    },
    {
      "cell_type": "code",
      "source": [
        "print(-999999999 in df.municipios.value_counts())\n",
        "print(-999999999 in df.carreteras.value_counts())\n",
        "print(-999999999 in df.agraria.value_counts())\n",
        "print(-999999999 in df.temperatura.value_counts())\n",
        "print(-999999999 in df.fuego.value_counts())\n",
        "print(-9999 in df.pendiente.value_counts())\n",
        "print(0 in df.orientacion.value_counts())"
      ],
      "metadata": {
        "id": "LkhoQXBUhXcT",
        "colab": {
          "base_uri": "https://localhost:8080/"
        },
        "outputId": "94a71286-8d38-4279-abab-a4f384d15ab8"
      },
      "execution_count": 19,
      "outputs": [
        {
          "output_type": "stream",
          "name": "stdout",
          "text": [
            "False\n",
            "False\n",
            "False\n",
            "False\n",
            "False\n",
            "False\n",
            "False\n"
          ]
        }
      ]
    },
    {
      "cell_type": "markdown",
      "source": [
        "### Gestionamos las categorías de la capa de incendios"
      ],
      "metadata": {
        "id": "svKHWKwSArpG"
      }
    },
    {
      "cell_type": "code",
      "source": [
        "print(df.fuego.value_counts())"
      ],
      "metadata": {
        "colab": {
          "base_uri": "https://localhost:8080/"
        },
        "id": "2iXgIaEFBSui",
        "outputId": "7a0a6d8d-4900-4923-9e99-81df081debd5"
      },
      "execution_count": 20,
      "outputs": [
        {
          "output_type": "stream",
          "name": "stdout",
          "text": [
            "-1000000000    36076909\n",
            " 50             6925974\n",
            " 80             4044703\n",
            " 0              3902115\n",
            " 30             1067039\n",
            " 60              342058\n",
            " 20              323550\n",
            " 40               71098\n",
            " 70               42000\n",
            " 10               12480\n",
            " 90                3256\n",
            " 100                754\n",
            " 95                   8\n",
            "Name: fuego, dtype: int64\n"
          ]
        }
      ]
    },
    {
      "cell_type": "code",
      "source": [
        "#juntamos los -1000000000 y los 0 que son valores donde no ha habido incendios o la probabilidad de ignición es nula \n",
        "df['fuego'] = df['fuego'].replace(-1000000000, 0)"
      ],
      "metadata": {
        "id": "pZcu54Zy1Rwa"
      },
      "execution_count": 21,
      "outputs": []
    },
    {
      "cell_type": "code",
      "source": [
        "# Reemplazamos los valores por su capacidad de ignicion.\n",
        "# (0) Los valores a 0 serán nulos\n",
        "# (1) Los valores entre 01 y 25 son una probabilidad baja de incencio\n",
        "# (2) Los valores entre 26 y 50 son una probabilidad media de incencio\n",
        "# (3) Los valores entre 51 y 75 son una probabilidad alta de incencio\n",
        "# (4) Los valores entre 76 y 100 son una probabilidad extrema de incencio\n",
        "\n",
        "df['fuego'] = df['fuego'].where(~df['fuego'].between(1, 25), 1)\n",
        "df['fuego'] = df['fuego'].where(~df['fuego'].between(26, 50), 2)\n",
        "df['fuego'] = df['fuego'].where(~df['fuego'].between(51, 75), 3)\n",
        "df['fuego'] = df['fuego'].where(~df['fuego'].between(76, 100), 4)\n",
        "\n",
        "# df['fuego'] = df['fuego'].where(~df['fuego'].between(1, 25), 1)\n",
        "# df['fuego'] = df['fuego'].where(~df['fuego'].between(26, 50), 1)\n",
        "# df['fuego'] = df['fuego'].where(~df['fuego'].between(51, 75), 2)\n",
        "# df['fuego'] = df['fuego'].where(~df['fuego'].between(76, 100), 2)\n",
        "\n",
        "# df['fuego'] = df['fuego'].where(~df['fuego'].between(1, 33), 1)\n",
        "# df['fuego'] = df['fuego'].where(~df['fuego'].between(34, 66), 2)\n",
        "# df['fuego'] = df['fuego'].where(~df['fuego'].between(67, 100), 3)"
      ],
      "metadata": {
        "id": "52LWe5bk5B9z"
      },
      "execution_count": 22,
      "outputs": []
    },
    {
      "cell_type": "code",
      "source": [
        "print(df.fuego.value_counts())"
      ],
      "metadata": {
        "id": "FXidL8DsSHCe",
        "colab": {
          "base_uri": "https://localhost:8080/"
        },
        "outputId": "677da17b-49da-41db-8f5e-74020d8eabdc"
      },
      "execution_count": 23,
      "outputs": [
        {
          "output_type": "stream",
          "name": "stdout",
          "text": [
            "0    39979024\n",
            "2     8064111\n",
            "4     4048721\n",
            "3      384058\n",
            "1      336030\n",
            "Name: fuego, dtype: int64\n"
          ]
        }
      ]
    },
    {
      "cell_type": "markdown",
      "source": [
        "## Balanceamos el DataFrame"
      ],
      "metadata": {
        "id": "RpywYwXMBOEh"
      }
    },
    {
      "cell_type": "code",
      "source": [
        "df.shape"
      ],
      "metadata": {
        "colab": {
          "base_uri": "https://localhost:8080/"
        },
        "id": "-iERimUy3G49",
        "outputId": "e781b580-7a75-4623-c11c-2787c6373128"
      },
      "execution_count": 24,
      "outputs": [
        {
          "output_type": "execute_result",
          "data": {
            "text/plain": [
              "(52811944, 7)"
            ]
          },
          "metadata": {},
          "execution_count": 24
        }
      ]
    },
    {
      "cell_type": "code",
      "source": [
        "# Como está desvalanceado el data frame, vamos a balancearlo\n",
        "n_samples = 200000\n",
        "\n",
        "# Submuestrea aleatoriamente las observaciones de las clases sobrerrepresentadas\n",
        "balanced = pd.concat([\n",
        "    resample(df[df['fuego'] == class_], replace=False, n_samples=n_samples)\n",
        "    for class_ in df['fuego'].unique()\n",
        "])\n",
        "\n",
        "# Especifica el porcentaje deseado de cada clase\n",
        "# percent_to_keep = 0.03\n",
        "\n",
        "# # Submuestrea aleatoriamente las observaciones de las clases sobrerrepresentadas\n",
        "# balanced = pd.concat([\n",
        "#     resample(df[df['fuego'] == class_], replace=False, \n",
        "#              n_samples=int(df[df['fuego'] == class_].shape[0] * percent_to_keep))\n",
        "#     for class_ in df['fuego'].unique()\n",
        "# ])"
      ],
      "metadata": {
        "id": "PaPjoD0O95ds"
      },
      "execution_count": 25,
      "outputs": []
    },
    {
      "cell_type": "code",
      "source": [
        "# Finalmente vemos que nos quedamos con 500.000 píxeles, 100.000 por cada probabilidad de ignición\n",
        "print(balanced.fuego.value_counts())\n",
        "print(balanced.shape)"
      ],
      "metadata": {
        "id": "VT0AD9WYMPUi",
        "colab": {
          "base_uri": "https://localhost:8080/"
        },
        "outputId": "249ea7f5-90e6-4627-ffdd-0da4ba3e5f1f"
      },
      "execution_count": 26,
      "outputs": [
        {
          "output_type": "stream",
          "name": "stdout",
          "text": [
            "0    200000\n",
            "3    200000\n",
            "2    200000\n",
            "1    200000\n",
            "4    200000\n",
            "Name: fuego, dtype: int64\n",
            "(1000000, 7)\n"
          ]
        }
      ]
    },
    {
      "cell_type": "markdown",
      "source": [
        "## Formateamos datos de la capa de municipios, carreteras y agraria"
      ],
      "metadata": {
        "id": "LDhKquslB6fB"
      }
    },
    {
      "cell_type": "code",
      "source": [
        "# cambiamos el valor 'sin municipios' de -1.000.000.000 por 0 para tener capas binarias\n",
        "balanced.loc[balanced.municipios != 1, 'municipios'] = 0\n",
        "balanced.loc[balanced.carreteras != 1, 'carreteras'] = 0\n",
        "balanced.loc[balanced.agraria == -1000000000, 'agraria'] = 0"
      ],
      "metadata": {
        "id": "CDlPSf76jx-A"
      },
      "execution_count": 27,
      "outputs": []
    },
    {
      "cell_type": "code",
      "source": [
        "print(balanced.municipios.value_counts())\n",
        "print()\n",
        "print(balanced.carreteras.value_counts())\n",
        "print()\n",
        "print(balanced.agraria.value_counts())\n",
        "print()\n",
        "print(balanced.pendiente.value_counts())\n",
        "print()\n",
        "print(balanced.orientacion.value_counts())"
      ],
      "metadata": {
        "colab": {
          "base_uri": "https://localhost:8080/"
        },
        "id": "eLrNRxUzjARi",
        "outputId": "bec73ce3-95f4-45db-d592-a504f864cfa1"
      },
      "execution_count": 28,
      "outputs": [
        {
          "output_type": "stream",
          "name": "stdout",
          "text": [
            "0    997130\n",
            "1      2870\n",
            "Name: municipios, dtype: int64\n",
            "\n",
            "0    990584\n",
            "1      9416\n",
            "Name: carreteras, dtype: int64\n",
            "\n",
            "8      378156\n",
            "10     181283\n",
            "1       92119\n",
            "7       91738\n",
            "9       36291\n",
            "6       34758\n",
            "12      32264\n",
            "108     24694\n",
            "101     22447\n",
            "13      14149\n",
            "17       9382\n",
            "102      9247\n",
            "3        9225\n",
            "14       7694\n",
            "2        7208\n",
            "201      6769\n",
            "117      5560\n",
            "107      5542\n",
            "109      5482\n",
            "110      3782\n",
            "106      3052\n",
            "11       2391\n",
            "208      1686\n",
            "5        1649\n",
            "103      1632\n",
            "202      1626\n",
            "18       1584\n",
            "20       1328\n",
            "112      1128\n",
            "217      1018\n",
            "21        957\n",
            "203       594\n",
            "113       477\n",
            "210       464\n",
            "4         448\n",
            "206       442\n",
            "16        358\n",
            "207       334\n",
            "118       165\n",
            "204       153\n",
            "209       136\n",
            "114       133\n",
            "104        95\n",
            "212        92\n",
            "0          77\n",
            "218        63\n",
            "111        61\n",
            "213        42\n",
            "211         7\n",
            "214         7\n",
            "105         4\n",
            "116         3\n",
            "115         2\n",
            "219         1\n",
            "215         1\n",
            "Name: agraria, dtype: int64\n",
            "\n",
            "31     17568\n",
            "34     17486\n",
            "35     17306\n",
            "33     17283\n",
            "37     17164\n",
            "       ...  \n",
            "449        1\n",
            "656        1\n",
            "335        1\n",
            "324        1\n",
            "240        1\n",
            "Name: pendiente, Length: 358, dtype: int64\n",
            "\n",
            "90     3302\n",
            "61     3299\n",
            "67     3265\n",
            "130    3263\n",
            "60     3258\n",
            "       ... \n",
            "283    2189\n",
            "263    2174\n",
            "266    2160\n",
            "267    2152\n",
            "360    1374\n",
            "Name: orientacion, Length: 360, dtype: int64\n"
          ]
        }
      ]
    },
    {
      "cell_type": "markdown",
      "source": [
        "# Análisis de datos"
      ],
      "metadata": {
        "id": "o7oeikIgyIk8"
      }
    },
    {
      "cell_type": "markdown",
      "source": [
        "## Matriz de correlaciones"
      ],
      "metadata": {
        "id": "XBPEhwsEydqr"
      }
    },
    {
      "cell_type": "code",
      "source": [
        "corr = balanced.corr()\n",
        "f, ax = plt.subplots(figsize=(11, 9))\n",
        "sns.heatmap(corr, center=0,square=True, linewidths=.5, cbar_kws={\"shrink\": .5},annot=True)"
      ],
      "metadata": {
        "colab": {
          "base_uri": "https://localhost:8080/",
          "height": 554
        },
        "id": "GG8aJ-lTyj7f",
        "outputId": "cd05da82-3292-45a2-8c5d-87ccb234ffde"
      },
      "execution_count": 29,
      "outputs": [
        {
          "output_type": "execute_result",
          "data": {
            "text/plain": [
              "<matplotlib.axes._subplots.AxesSubplot at 0x7fe501139220>"
            ]
          },
          "metadata": {},
          "execution_count": 29
        },
        {
          "output_type": "display_data",
          "data": {
            "text/plain": [
              "<Figure size 792x648 with 2 Axes>"
            ],
            "image/png": "[encoded data removed]"
          },
          "metadata": {
            "needs_background": "light"
          }
        }
      ]
    },
    {
      "cell_type": "markdown",
      "source": [
        "# Definimos y entrenamos el modelo"
      ],
      "metadata": {
        "id": "EJ4XlHRfEuJk"
      }
    },
    {
      "cell_type": "code",
      "source": [
        "X=balanced[['municipios', 'carreteras', 'agraria', 'temperatura', 'pendiente', 'orientacion']]\n",
        "y=balanced.fuego"
      ],
      "metadata": {
        "id": "LcFQk8vAnaVE"
      },
      "execution_count": 30,
      "outputs": []
    },
    {
      "cell_type": "code",
      "source": [
        "X_train, X_test, y_train, y_test = train_test_split(X, y, test_size=0.2, random_state=42)"
      ],
      "metadata": {
        "id": "9r_jAb2Ln84D"
      },
      "execution_count": 31,
      "outputs": []
    },
    {
      "cell_type": "code",
      "source": [
        "#liberamos ram\n",
        "del dataset\n",
        "del dataset_pend_ori\n",
        "\n",
        "del band1\n",
        "del band2\n",
        "del band3\n",
        "del band4\n",
        "del band5\n",
        "del band6\n",
        "del band7\n"
      ],
      "metadata": {
        "id": "5py42tgQU0bH"
      },
      "execution_count": 32,
      "outputs": []
    },
    {
      "cell_type": "code",
      "source": [
        "forest = RandomForestClassifier(random_state=0, n_estimators=150,max_depth=30,max_features=3)\n",
        "\n",
        "forest.fit(X_train, y_train)\n",
        "y_pred = forest.predict(X_test)\n",
        "print('Accuracy is',accuracy_score(y_pred,y_test))\n"
      ],
      "metadata": {
        "id": "5rUMZARUawXz"
      },
      "execution_count": null,
      "outputs": []
    },
    {
      "cell_type": "code",
      "source": [
        "y_pred = forest.predict(X_test)\n",
        "print('Accuracy is',accuracy_score(y_pred,y_test))"
      ],
      "metadata": {
        "colab": {
          "base_uri": "https://localhost:8080/"
        },
        "id": "_8sK4hBl44UA",
        "outputId": "7a3ecc40-ce29-413e-d73c-3ca41dd12526"
      },
      "execution_count": 61,
      "outputs": [
        {
          "output_type": "stream",
          "name": "stdout",
          "text": [
            "Accuracy is 0.721125\n"
          ]
        }
      ]
    },
    {
      "cell_type": "code",
      "source": [
        "def plot_confusion_matrix(y, y_pred):\n",
        "    acc = round(accuracy_score(y, y_pred), 2)\n",
        "    cm = confusion_matrix(y, y_pred)\n",
        "    sns.heatmap(cm, annot=True, fmt=\".0f\")\n",
        "    plt.xlabel('y_pred')\n",
        "    plt.ylabel('y')\n",
        "    plt.title('Accuracy Score: {0}'.format(acc), size=10)\n",
        "    plt.show()\n",
        "\n",
        "plot_confusion_matrix(y_pred, y_test)"
      ],
      "metadata": {
        "colab": {
          "base_uri": "https://localhost:8080/",
          "height": 294
        },
        "id": "C5PMkib_5PHZ",
        "outputId": "74ef09f8-c4f3-4a5f-9a31-067c949332e3"
      },
      "execution_count": 62,
      "outputs": [
        {
          "output_type": "display_data",
          "data": {
            "text/plain": [
              "<Figure size 432x288 with 2 Axes>"
            ],
            "image/png": "[encoded data removed]"
          },
          "metadata": {
            "needs_background": "light"
          }
        }
      ]
    },
    {
      "cell_type": "code",
      "source": [
        "print(classification_report(y_true = y_test, y_pred = y_pred))"
      ],
      "metadata": {
        "colab": {
          "base_uri": "https://localhost:8080/"
        },
        "id": "8sm0reRzl8o1",
        "outputId": "68bcf3f4-145f-4617-87f1-e0c868df6f75"
      },
      "execution_count": 63,
      "outputs": [
        {
          "output_type": "stream",
          "name": "stdout",
          "text": [
            "              precision    recall  f1-score   support\n",
            "\n",
            "           0       0.75      0.57      0.65     40097\n",
            "           1       0.70      0.78      0.74     40082\n",
            "           2       0.65      0.57      0.61     39824\n",
            "           3       0.69      0.83      0.76     40072\n",
            "           4       0.82      0.85      0.84     39925\n",
            "\n",
            "    accuracy                           0.72    200000\n",
            "   macro avg       0.72      0.72      0.72    200000\n",
            "weighted avg       0.72      0.72      0.72    200000\n",
            "\n"
          ]
        }
      ]
    },
    {
      "cell_type": "code",
      "source": [
        "from collections import Counter\n",
        "\n",
        "frecuencia = Counter(y_pred)\n",
        "\n",
        "plt.bar(frecuencia.keys(), frecuencia.values())\n",
        "plt.show()"
      ],
      "metadata": {
        "colab": {
          "base_uri": "https://localhost:8080/",
          "height": 266
        },
        "id": "pW8nc2Hugcmw",
        "outputId": "bbe7b8d8-c3bc-4951-8a3b-534d0efcf9ec"
      },
      "execution_count": 64,
      "outputs": [
        {
          "output_type": "display_data",
          "data": {
            "text/plain": [
              "<Figure size 432x288 with 1 Axes>"
            ],
            "image/png": "[encoded data removed]"
          },
          "metadata": {
            "needs_background": "light"
          }
        }
      ]
    },
    {
      "cell_type": "code",
      "source": [
        "x1 = Counter(y_pred)\n",
        "x2 = Counter(y_test)\n",
        "\n",
        "fig, ax = plt.subplots()\n",
        "\n",
        "ax.bar(x1.keys(), x1.values(), label='y_pred')\n",
        "ax.bar(x2.keys(), x2.values(), label='y_test')\n",
        "\n",
        "ax.legend()\n",
        "\n",
        "plt.show()"
      ],
      "metadata": {
        "colab": {
          "base_uri": "https://localhost:8080/",
          "height": 266
        },
        "id": "Cdi25TBWmw1o",
        "outputId": "bf46de53-9634-4694-8f23-b26ffb23f625"
      },
      "execution_count": 65,
      "outputs": [
        {
          "output_type": "display_data",
          "data": {
            "text/plain": [
              "<Figure size 432x288 with 1 Axes>"
            ],
            "image/png": "[encoded data removed]"
          },
          "metadata": {
            "needs_background": "light"
          }
        }
      ]
    }
  ],
  "metadata": {
    "colab": {
      "provenance": [],
      "include_colab_link": true
    },
    "kernelspec": {
      "display_name": "Python 3",
      "name": "python3"
    },
    "language_info": {
      "name": "python"
    },
    "gpuClass": "standard"
  },
  "nbformat": 4,
  "nbformat_minor": 0
}